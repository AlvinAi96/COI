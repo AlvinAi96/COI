{
 "cells": [
  {
   "cell_type": "markdown",
   "metadata": {},
   "source": [
    "# 伪标签数据划分"
   ]
  },
  {
   "cell_type": "code",
   "execution_count": 1,
   "metadata": {},
   "outputs": [],
   "source": [
    "import pandas as pd\n",
    "import random\n",
    "import os"
   ]
  },
  {
   "cell_type": "code",
   "execution_count": 2,
   "metadata": {},
   "outputs": [],
   "source": [
    "pse_label_df = pd.read_csv('../复赛融合/submit/sub_8223用于伪标签.csv')"
   ]
  },
  {
   "cell_type": "code",
   "execution_count": 3,
   "metadata": {
    "scrolled": true
   },
   "outputs": [
    {
     "data": {
      "text/html": [
       "<div>\n",
       "<style scoped>\n",
       "    .dataframe tbody tr th:only-of-type {\n",
       "        vertical-align: middle;\n",
       "    }\n",
       "\n",
       "    .dataframe tbody tr th {\n",
       "        vertical-align: top;\n",
       "    }\n",
       "\n",
       "    .dataframe thead th {\n",
       "        text-align: right;\n",
       "    }\n",
       "</style>\n",
       "<table border=\"1\" class=\"dataframe\">\n",
       "  <thead>\n",
       "    <tr style=\"text-align: right;\">\n",
       "      <th></th>\n",
       "      <th>id</th>\n",
       "      <th>label</th>\n",
       "    </tr>\n",
       "  </thead>\n",
       "  <tbody>\n",
       "    <tr>\n",
       "      <td>0</td>\n",
       "      <td>0003d01880444716a42159efe73d2c26</td>\n",
       "      <td>1</td>\n",
       "    </tr>\n",
       "    <tr>\n",
       "      <td>1</td>\n",
       "      <td>000dbfeed3594d5bb128a21c2078a786</td>\n",
       "      <td>0</td>\n",
       "    </tr>\n",
       "    <tr>\n",
       "      <td>2</td>\n",
       "      <td>0010336c4cd44547852edd379487dbda</td>\n",
       "      <td>1</td>\n",
       "    </tr>\n",
       "    <tr>\n",
       "      <td>3</td>\n",
       "      <td>001332737eaa443d85b6f59b07d28ed2</td>\n",
       "      <td>1</td>\n",
       "    </tr>\n",
       "    <tr>\n",
       "      <td>4</td>\n",
       "      <td>00251d9b40164b638cc784d8e65df52f</td>\n",
       "      <td>1</td>\n",
       "    </tr>\n",
       "  </tbody>\n",
       "</table>\n",
       "</div>"
      ],
      "text/plain": [
       "                                 id  label\n",
       "0  0003d01880444716a42159efe73d2c26      1\n",
       "1  000dbfeed3594d5bb128a21c2078a786      0\n",
       "2  0010336c4cd44547852edd379487dbda      1\n",
       "3  001332737eaa443d85b6f59b07d28ed2      1\n",
       "4  00251d9b40164b638cc784d8e65df52f      1"
      ]
     },
     "execution_count": 3,
     "metadata": {},
     "output_type": "execute_result"
    }
   ],
   "source": [
    "pse_label_df.head()"
   ]
  },
  {
   "cell_type": "code",
   "execution_count": 4,
   "metadata": {},
   "outputs": [
    {
     "data": {
      "text/html": [
       "<div>\n",
       "<style scoped>\n",
       "    .dataframe tbody tr th:only-of-type {\n",
       "        vertical-align: middle;\n",
       "    }\n",
       "\n",
       "    .dataframe tbody tr th {\n",
       "        vertical-align: top;\n",
       "    }\n",
       "\n",
       "    .dataframe thead th {\n",
       "        text-align: right;\n",
       "    }\n",
       "</style>\n",
       "<table border=\"1\" class=\"dataframe\">\n",
       "  <thead>\n",
       "    <tr style=\"text-align: right;\">\n",
       "      <th></th>\n",
       "      <th>id</th>\n",
       "      <th>title</th>\n",
       "      <th>content</th>\n",
       "    </tr>\n",
       "  </thead>\n",
       "  <tbody>\n",
       "    <tr>\n",
       "      <td>0</td>\n",
       "      <td>b9dbbdee402e4dd0a5d1041ff44a001c</td>\n",
       "      <td>“两减六治三提升”专项督查暗访 常州溧阳：矿山生态修复滞后 企业防尘措施不到位</td>\n",
       "      <td>“两减六治三提升”专项督查暗访 常州溧阳：矿山生态修复滞后 企业防尘措施不到位</td>\n",
       "    </tr>\n",
       "    <tr>\n",
       "      <td>1</td>\n",
       "      <td>1b48213241064f788dde3c3b359e7622</td>\n",
       "      <td>惊！南宁一家 4 口中毒，母亲口吐白沫！罪魁祸首竟是……</td>\n",
       "      <td>南宁晚报  南宁记者 潘国武 文  图救援人员赶到邕武路二塘坡时，报警电话却无人接听。他们寻...</td>\n",
       "    </tr>\n",
       "    <tr>\n",
       "      <td>2</td>\n",
       "      <td>f68215c26fed430dab72dd6bea7b52ad</td>\n",
       "      <td>病家求医寄以生死 丹阳人民医院枉为医表</td>\n",
       "      <td>本帖最后由  于 2017928 0846 编辑 病家求医寄以生死 丹阳人民医院枉为医表本人...</td>\n",
       "    </tr>\n",
       "    <tr>\n",
       "      <td>3</td>\n",
       "      <td>bce43c07bf70468cb21381c4a4c5e303</td>\n",
       "      <td>央视曝光！如东高新区某制药企业将高浓度废水，伪装洒水车洒在马路上！</td>\n",
       "      <td>【今日如东】官方微信事业部整理发布责编葱（关注如东、南通那点事儿）天作孽不可为人作孽不可活在...</td>\n",
       "    </tr>\n",
       "    <tr>\n",
       "      <td>4</td>\n",
       "      <td>d0aa38c8481a4d34bf6138e640664073</td>\n",
       "      <td>江苏如东 药企改装“洒水车” 废水直排路面</td>\n",
       "      <td>央视网消息：江苏如东，近期发生了一件非常恶劣的偷排废水行为。以往我们知道的偷排废水，往往是接...</td>\n",
       "    </tr>\n",
       "    <tr>\n",
       "      <td>...</td>\n",
       "      <td>...</td>\n",
       "      <td>...</td>\n",
       "      <td>...</td>\n",
       "    </tr>\n",
       "    <tr>\n",
       "      <td>7357</td>\n",
       "      <td>3eaabfb647ab486b96c82cbdb88b06df</td>\n",
       "      <td>溧阳疑似地震的官方通告来啦东升新村一老人死家里多日无人理会，尸体发臭社渚一彩民花4元喜中10...</td>\n",
       "      <td>溧阳天气情况（2019226）\\25监测站点平均指数：172中度\\本期导读\\【关于疑似地震的...</td>\n",
       "    </tr>\n",
       "    <tr>\n",
       "      <td>7358</td>\n",
       "      <td>277ccd613fba44548774f78891574938</td>\n",
       "      <td>为救轻生女儿，62岁母亲溺亡。孩子，想不开的时候，先想想你妈。</td>\n",
       "      <td>我们总说母爱伟大，无数例子证明了这一点。今早就看到这样一则新闻，让人痛心不已！ 河南新乡有一...</td>\n",
       "    </tr>\n",
       "    <tr>\n",
       "      <td>7359</td>\n",
       "      <td>a843b41a3573445991305812088f8073</td>\n",
       "      <td>61人人失踪仍有印尼海啸死亡人数已上升至334人8凯发网站</td>\n",
       "      <td>据外媒预测，连同27日的会面在内，特朗普与金正恩最少有5次机会见面，且不排除“加会”，两人亦...</td>\n",
       "    </tr>\n",
       "    <tr>\n",
       "      <td>7360</td>\n",
       "      <td>a608f5823ea4461b8ee1b918a69ebbe4</td>\n",
       "      <td>受台风“卡努”影响 海南环岛动车15日零时停运侯马市人民广播电台</td>\n",
       "      <td>海口10月14日电记者洪坚鹏受台风“卡努”影响，海南铁路部门宣布海南环岛高铁将于15日零时起...</td>\n",
       "    </tr>\n",
       "    <tr>\n",
       "      <td>7361</td>\n",
       "      <td>1a5e05ef02dd4b8ebbdadaa31ca51286</td>\n",
       "      <td>安镇某民房深夜起火 致九旬老太不幸身亡</td>\n",
       "      <td>前天晚上10时多，锡山区安镇街道先锋村一民房失火，事故导致一名老太身亡。昨天上午记者来到现场...</td>\n",
       "    </tr>\n",
       "  </tbody>\n",
       "</table>\n",
       "<p>7362 rows × 3 columns</p>\n",
       "</div>"
      ],
      "text/plain": [
       "                                    id  \\\n",
       "0     b9dbbdee402e4dd0a5d1041ff44a001c   \n",
       "1     1b48213241064f788dde3c3b359e7622   \n",
       "2     f68215c26fed430dab72dd6bea7b52ad   \n",
       "3     bce43c07bf70468cb21381c4a4c5e303   \n",
       "4     d0aa38c8481a4d34bf6138e640664073   \n",
       "...                                ...   \n",
       "7357  3eaabfb647ab486b96c82cbdb88b06df   \n",
       "7358  277ccd613fba44548774f78891574938   \n",
       "7359  a843b41a3573445991305812088f8073   \n",
       "7360  a608f5823ea4461b8ee1b918a69ebbe4   \n",
       "7361  1a5e05ef02dd4b8ebbdadaa31ca51286   \n",
       "\n",
       "                                                  title  \\\n",
       "0               “两减六治三提升”专项督查暗访 常州溧阳：矿山生态修复滞后 企业防尘措施不到位   \n",
       "1                          惊！南宁一家 4 口中毒，母亲口吐白沫！罪魁祸首竟是……   \n",
       "2                                   病家求医寄以生死 丹阳人民医院枉为医表   \n",
       "3                     央视曝光！如东高新区某制药企业将高浓度废水，伪装洒水车洒在马路上！   \n",
       "4                                 江苏如东 药企改装“洒水车” 废水直排路面   \n",
       "...                                                 ...   \n",
       "7357  溧阳疑似地震的官方通告来啦东升新村一老人死家里多日无人理会，尸体发臭社渚一彩民花4元喜中10...   \n",
       "7358                    为救轻生女儿，62岁母亲溺亡。孩子，想不开的时候，先想想你妈。   \n",
       "7359                      61人人失踪仍有印尼海啸死亡人数已上升至334人8凯发网站   \n",
       "7360                   受台风“卡努”影响 海南环岛动车15日零时停运侯马市人民广播电台   \n",
       "7361                                安镇某民房深夜起火 致九旬老太不幸身亡   \n",
       "\n",
       "                                                content  \n",
       "0               “两减六治三提升”专项督查暗访 常州溧阳：矿山生态修复滞后 企业防尘措施不到位  \n",
       "1     南宁晚报  南宁记者 潘国武 文  图救援人员赶到邕武路二塘坡时，报警电话却无人接听。他们寻...  \n",
       "2     本帖最后由  于 2017928 0846 编辑 病家求医寄以生死 丹阳人民医院枉为医表本人...  \n",
       "3     【今日如东】官方微信事业部整理发布责编葱（关注如东、南通那点事儿）天作孽不可为人作孽不可活在...  \n",
       "4     央视网消息：江苏如东，近期发生了一件非常恶劣的偷排废水行为。以往我们知道的偷排废水，往往是接...  \n",
       "...                                                 ...  \n",
       "7357  溧阳天气情况（2019226）\\25监测站点平均指数：172中度\\本期导读\\【关于疑似地震的...  \n",
       "7358  我们总说母爱伟大，无数例子证明了这一点。今早就看到这样一则新闻，让人痛心不已！ 河南新乡有一...  \n",
       "7359  据外媒预测，连同27日的会面在内，特朗普与金正恩最少有5次机会见面，且不排除“加会”，两人亦...  \n",
       "7360  海口10月14日电记者洪坚鹏受台风“卡努”影响，海南铁路部门宣布海南环岛高铁将于15日零时起...  \n",
       "7361  前天晚上10时多，锡山区安镇街道先锋村一民房失火，事故导致一名老太身亡。昨天上午记者来到现场...  \n",
       "\n",
       "[7362 rows x 3 columns]"
      ]
     },
     "execution_count": 4,
     "metadata": {},
     "output_type": "execute_result"
    }
   ],
   "source": [
    "test_df = pd.read_csv('replacement/test.csv')\n",
    "test_df = test_df.loc[:,['id','title','content']]\n",
    "test_df"
   ]
  },
  {
   "cell_type": "code",
   "execution_count": 5,
   "metadata": {},
   "outputs": [],
   "source": [
    "def split_train(train_df, train_label_df):\n",
    "    random.seed(42)\n",
    "    split_num = 10\n",
    "    train_df=train_df.merge(train_label_df,on='id',how='left')\n",
    "    train_df['label']=train_df['label'].fillna(-1)\n",
    "    train_df=train_df[train_df['label']!=-1]\n",
    "    train_df['label']=train_df['label'].astype(int)\n",
    "    train_df['content']=train_df['content'].fillna('无')\n",
    "    train_df['title']=train_df['title'].fillna('无')\n",
    "    \n",
    "    index=set(range(train_df.shape[0]))\n",
    "    K_fold=[]\n",
    "    for i in range(split_num):\n",
    "        if i == split_num-1:\n",
    "            tmp=index\n",
    "        else:\n",
    "            tmp=random.sample(index,int(1.0/split_num*train_df.shape[0]))\n",
    "        index=index-set(tmp)\n",
    "        print(\"Number:\",len(tmp))\n",
    "        K_fold.append(tmp)\n",
    "\n",
    "\n",
    "    for i in range(split_num):\n",
    "        print(\"Fold\",i)\n",
    "        data_dir = \"data_pse_10fold/8223_replaced_data_pse_42_{}\".format(i)\n",
    "        if not os.path.exists(data_dir):\n",
    "            os.makedirs(data_dir)\n",
    "        dev_index=list(K_fold[i])\n",
    "        train_df.iloc[dev_index].to_csv((data_dir+\"/train.csv\").format(i))\n"
   ]
  },
  {
   "cell_type": "code",
   "execution_count": 6,
   "metadata": {
    "scrolled": true
   },
   "outputs": [
    {
     "name": "stdout",
     "output_type": "stream",
     "text": [
      "Number: 735\n",
      "Number: 735\n",
      "Number: 735\n",
      "Number: 735\n",
      "Number: 735\n",
      "Number: 735\n",
      "Number: 735\n",
      "Number: 735\n",
      "Number: 735\n",
      "Number: 741\n",
      "Fold 0\n",
      "Fold 1\n",
      "Fold 2\n",
      "Fold 3\n",
      "Fold 4\n",
      "Fold 5\n",
      "Fold 6\n",
      "Fold 7\n",
      "Fold 8\n",
      "Fold 9\n"
     ]
    }
   ],
   "source": [
    "split_train(test_df, pse_label_df)"
   ]
  },
  {
   "cell_type": "markdown",
   "metadata": {},
   "source": [
    "# 伪标签和原训练集拼接"
   ]
  },
  {
   "cell_type": "code",
   "execution_count": 7,
   "metadata": {},
   "outputs": [],
   "source": [
    "import pandas as pd\n",
    "import os\n",
    "def pse_merge_train(train_id, pse_id):\n",
    "#     train_id, pse_id = 3,3\n",
    "    train_dir = \"data_StratifiedKFold_42/data_replacement_{}/\".format(train_id)\n",
    "    pse_dir = \"data_pse_10fold/8223_replaced_data_pse_42_{}/\".format(pse_id)\n",
    "    train_pse_dir = \"8223_data_pse/replaced_data_train{}_pse{}/\".format(train_id,pse_id)\n",
    "    os.system(\"cp -r \"+train_dir+\" \"+train_pse_dir)\n",
    "\n",
    "    train_df = pd.read_csv(train_dir+'train.csv')\n",
    "    pse_df = pd.read_csv(pse_dir+'train.csv')\n",
    "\n",
    "    rst = pd.concat([train_df, pse_df],ignore_index=True)\n",
    "    rst.loc[:,['id','title','content','label']].to_csv(train_pse_dir + \"train.csv\")"
   ]
  },
  {
   "cell_type": "code",
   "execution_count": 9,
   "metadata": {},
   "outputs": [],
   "source": [
    "rst = pse_merge_train(3, 3)\n",
    "rst = pse_merge_train(0, 0)\n",
    "rst = pse_merge_train(1, 1)\n",
    "rst = pse_merge_train(2, 2)\n",
    "rst = pse_merge_train(4, 4)"
   ]
  },
  {
   "cell_type": "code",
   "execution_count": null,
   "metadata": {},
   "outputs": [],
   "source": []
  }
 ],
 "metadata": {
  "kernelspec": {
   "display_name": "Python 3",
   "language": "python",
   "name": "python3"
  },
  "language_info": {
   "codemirror_mode": {
    "name": "ipython",
    "version": 3
   },
   "file_extension": ".py",
   "mimetype": "text/x-python",
   "name": "python",
   "nbconvert_exporter": "python",
   "pygments_lexer": "ipython3",
   "version": "3.7.3"
  }
 },
 "nbformat": 4,
 "nbformat_minor": 2
}
