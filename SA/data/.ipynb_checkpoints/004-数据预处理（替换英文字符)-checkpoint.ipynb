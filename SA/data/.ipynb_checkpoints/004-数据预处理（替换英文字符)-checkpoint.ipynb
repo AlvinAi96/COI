{
 "cells": [
  {
   "cell_type": "code",
   "execution_count": 1,
   "metadata": {},
   "outputs": [],
   "source": [
    "import pandas as pd\n",
    "import os\n",
    "import random\n",
    "\n",
    "train_df=pd.read_csv(\"all_train.csv\")\n",
    "test_df=pd.read_csv(\"all_test.csv\")"
   ]
  },
  {
   "cell_type": "code",
   "execution_count": 2,
   "metadata": {},
   "outputs": [
    {
     "data": {
      "text/html": [
       "<div>\n",
       "<style scoped>\n",
       "    .dataframe tbody tr th:only-of-type {\n",
       "        vertical-align: middle;\n",
       "    }\n",
       "\n",
       "    .dataframe tbody tr th {\n",
       "        vertical-align: top;\n",
       "    }\n",
       "\n",
       "    .dataframe thead th {\n",
       "        text-align: right;\n",
       "    }\n",
       "</style>\n",
       "<table border=\"1\" class=\"dataframe\">\n",
       "  <thead>\n",
       "    <tr style=\"text-align: right;\">\n",
       "      <th></th>\n",
       "      <th>Unnamed: 0</th>\n",
       "      <th>id</th>\n",
       "      <th>title</th>\n",
       "      <th>content</th>\n",
       "      <th>label</th>\n",
       "    </tr>\n",
       "  </thead>\n",
       "  <tbody>\n",
       "    <tr>\n",
       "      <td>0</td>\n",
       "      <td>0</td>\n",
       "      <td>7a3dd79f90ee419da87190cff60f7a86</td>\n",
       "      <td>问责领导(上黄镇党委书记张涛，宣国才真能一手遮天吗？)</td>\n",
       "      <td>这几天看了有人举报施某某的贴子，经与举报人联系证实，是宣某当天中午请举报人和枪手喝酒后，晚上...</td>\n",
       "      <td>2</td>\n",
       "    </tr>\n",
       "    <tr>\n",
       "      <td>1</td>\n",
       "      <td>1</td>\n",
       "      <td>7640a5589bc7486ca199eeeb38af79dd</td>\n",
       "      <td>江歌事件:教会孩子，善良的同时更要懂得保护自己!</td>\n",
       "      <td>过去一年的江歌悲剧，这几日再次刷屏：住在东京都中野区的中国女留学生江歌，收留了被前男友陈世锋...</td>\n",
       "      <td>1</td>\n",
       "    </tr>\n",
       "    <tr>\n",
       "      <td>2</td>\n",
       "      <td>2</td>\n",
       "      <td>8c5bda93e4ba401f90a0faa5b28fe57f</td>\n",
       "      <td>绝味鸭脖广告\"开黄腔\"引众怒 \"双11\"这么拼值吗?</td>\n",
       "      <td>“双11”1600亿的销售额让中国乃至全世界感到震惊，为此，不仅有不惜欠债百万的“剁手党”，...</td>\n",
       "      <td>2</td>\n",
       "    </tr>\n",
       "    <tr>\n",
       "      <td>3</td>\n",
       "      <td>3</td>\n",
       "      <td>1aa777fed31a4b8a9d866f05b5477557</td>\n",
       "      <td>央视曝光!如东一医药企业将槽罐车改成垃圾车，夜间偷排高浓度废水</td>\n",
       "      <td>2016年以来，如东高新区一家叫做拜瑞生物医药的企业竟然将装废水的槽罐车伪装成洒水车，常年在...</td>\n",
       "      <td>2</td>\n",
       "    </tr>\n",
       "    <tr>\n",
       "      <td>4</td>\n",
       "      <td>4</td>\n",
       "      <td>6c67ac55360340258e157f3710ebae6c</td>\n",
       "      <td>恶劣至极，央视都曝光了!南通如东一医药企业将槽罐车改成洒水车，夜间偷排高浓度废水...丢大发了!</td>\n",
       "      <td>新闻资讯•民生热点•城市生活•南通人都在看浏览更多资讯请关注微信公众号:南通传媒网昨晚央视一...</td>\n",
       "      <td>2</td>\n",
       "    </tr>\n",
       "  </tbody>\n",
       "</table>\n",
       "</div>"
      ],
      "text/plain": [
       "   Unnamed: 0                                id  \\\n",
       "0           0  7a3dd79f90ee419da87190cff60f7a86   \n",
       "1           1  7640a5589bc7486ca199eeeb38af79dd   \n",
       "2           2  8c5bda93e4ba401f90a0faa5b28fe57f   \n",
       "3           3  1aa777fed31a4b8a9d866f05b5477557   \n",
       "4           4  6c67ac55360340258e157f3710ebae6c   \n",
       "\n",
       "                                              title  \\\n",
       "0                       问责领导(上黄镇党委书记张涛，宣国才真能一手遮天吗？)   \n",
       "1                          江歌事件:教会孩子，善良的同时更要懂得保护自己!   \n",
       "2                        绝味鸭脖广告\"开黄腔\"引众怒 \"双11\"这么拼值吗?   \n",
       "3                   央视曝光!如东一医药企业将槽罐车改成垃圾车，夜间偷排高浓度废水   \n",
       "4  恶劣至极，央视都曝光了!南通如东一医药企业将槽罐车改成洒水车，夜间偷排高浓度废水...丢大发了!   \n",
       "\n",
       "                                             content  label  \n",
       "0  这几天看了有人举报施某某的贴子，经与举报人联系证实，是宣某当天中午请举报人和枪手喝酒后，晚上...      2  \n",
       "1  过去一年的江歌悲剧，这几日再次刷屏：住在东京都中野区的中国女留学生江歌，收留了被前男友陈世锋...      1  \n",
       "2  “双11”1600亿的销售额让中国乃至全世界感到震惊，为此，不仅有不惜欠债百万的“剁手党”，...      2  \n",
       "3  2016年以来，如东高新区一家叫做拜瑞生物医药的企业竟然将装废水的槽罐车伪装成洒水车，常年在...      2  \n",
       "4  新闻资讯•民生热点•城市生活•南通人都在看浏览更多资讯请关注微信公众号:南通传媒网昨晚央视一...      2  "
      ]
     },
     "execution_count": 2,
     "metadata": {},
     "output_type": "execute_result"
    }
   ],
   "source": [
    "train_df.head()"
   ]
  },
  {
   "cell_type": "code",
   "execution_count": 3,
   "metadata": {},
   "outputs": [],
   "source": [
    "train_df = train_df[['id', 'title', 'content', 'label']]"
   ]
  },
  {
   "cell_type": "code",
   "execution_count": 4,
   "metadata": {},
   "outputs": [
    {
     "data": {
      "text/html": [
       "<div>\n",
       "<style scoped>\n",
       "    .dataframe tbody tr th:only-of-type {\n",
       "        vertical-align: middle;\n",
       "    }\n",
       "\n",
       "    .dataframe tbody tr th {\n",
       "        vertical-align: top;\n",
       "    }\n",
       "\n",
       "    .dataframe thead th {\n",
       "        text-align: right;\n",
       "    }\n",
       "</style>\n",
       "<table border=\"1\" class=\"dataframe\">\n",
       "  <thead>\n",
       "    <tr style=\"text-align: right;\">\n",
       "      <th></th>\n",
       "      <th>Unnamed: 0</th>\n",
       "      <th>id</th>\n",
       "      <th>title</th>\n",
       "      <th>content</th>\n",
       "    </tr>\n",
       "  </thead>\n",
       "  <tbody>\n",
       "    <tr>\n",
       "      <td>0</td>\n",
       "      <td>0</td>\n",
       "      <td>b9dbbdee402e4dd0a5d1041ff44a001c</td>\n",
       "      <td>“两减六治三提升”专项督查暗访 常州溧阳：矿山生态修复滞后 企业防尘措施不到位</td>\n",
       "      <td>“两减六治三提升”专项督查暗访 常州溧阳：矿山生态修复滞后 企业防尘措施不到位</td>\n",
       "    </tr>\n",
       "    <tr>\n",
       "      <td>1</td>\n",
       "      <td>1</td>\n",
       "      <td>1b48213241064f788dde3c3b359e7622</td>\n",
       "      <td>惊！南宁一家 4 口中毒，母亲口吐白沫！罪魁祸首竟是……</td>\n",
       "      <td>南宁晚报 /zaker 南宁记者 潘国武 文 / 图救援人员赶到邕武路二塘坡时，报警电话却无...</td>\n",
       "    </tr>\n",
       "    <tr>\n",
       "      <td>2</td>\n",
       "      <td>2</td>\n",
       "      <td>f68215c26fed430dab72dd6bea7b52ad</td>\n",
       "      <td>病家求医寄以生死 丹阳人民医院枉为医表</td>\n",
       "      <td>本帖最后由 banished 于 2017-9-28 08:46 编辑 病家求医寄以生死 丹...</td>\n",
       "    </tr>\n",
       "    <tr>\n",
       "      <td>3</td>\n",
       "      <td>3</td>\n",
       "      <td>bce43c07bf70468cb21381c4a4c5e303</td>\n",
       "      <td>央视曝光!如东高新区某制药企业将高浓度废水，伪装洒水车洒在马路上!!</td>\n",
       "      <td>【今日如东】官方微信事业部整理发布责编/葱（via@关注如东、南通那点事儿）天作孽不可为人作...</td>\n",
       "    </tr>\n",
       "    <tr>\n",
       "      <td>4</td>\n",
       "      <td>4</td>\n",
       "      <td>d0aa38c8481a4d34bf6138e640664073</td>\n",
       "      <td>江苏如东 药企改装“洒水车” 废水直排路面</td>\n",
       "      <td>央视网消息:江苏如东，近期发生了一件非常恶劣的偷排废水行为。以往我们知道的偷排废水，往往是接...</td>\n",
       "    </tr>\n",
       "  </tbody>\n",
       "</table>\n",
       "</div>"
      ],
      "text/plain": [
       "   Unnamed: 0                                id  \\\n",
       "0           0  b9dbbdee402e4dd0a5d1041ff44a001c   \n",
       "1           1  1b48213241064f788dde3c3b359e7622   \n",
       "2           2  f68215c26fed430dab72dd6bea7b52ad   \n",
       "3           3  bce43c07bf70468cb21381c4a4c5e303   \n",
       "4           4  d0aa38c8481a4d34bf6138e640664073   \n",
       "\n",
       "                                     title  \\\n",
       "0  “两减六治三提升”专项督查暗访 常州溧阳：矿山生态修复滞后 企业防尘措施不到位   \n",
       "1             惊！南宁一家 4 口中毒，母亲口吐白沫！罪魁祸首竟是……   \n",
       "2                      病家求医寄以生死 丹阳人民医院枉为医表   \n",
       "3       央视曝光!如东高新区某制药企业将高浓度废水，伪装洒水车洒在马路上!!   \n",
       "4                    江苏如东 药企改装“洒水车” 废水直排路面   \n",
       "\n",
       "                                             content  \n",
       "0            “两减六治三提升”专项督查暗访 常州溧阳：矿山生态修复滞后 企业防尘措施不到位  \n",
       "1  南宁晚报 /zaker 南宁记者 潘国武 文 / 图救援人员赶到邕武路二塘坡时，报警电话却无...  \n",
       "2  本帖最后由 banished 于 2017-9-28 08:46 编辑 病家求医寄以生死 丹...  \n",
       "3  【今日如东】官方微信事业部整理发布责编/葱（via@关注如东、南通那点事儿）天作孽不可为人作...  \n",
       "4  央视网消息:江苏如东，近期发生了一件非常恶劣的偷排废水行为。以往我们知道的偷排废水，往往是接...  "
      ]
     },
     "execution_count": 4,
     "metadata": {},
     "output_type": "execute_result"
    }
   ],
   "source": [
    "test_df.head()"
   ]
  },
  {
   "cell_type": "code",
   "execution_count": 5,
   "metadata": {},
   "outputs": [],
   "source": [
    "test_df = test_df[['id', 'title', 'content']]"
   ]
  },
  {
   "cell_type": "code",
   "execution_count": 6,
   "metadata": {},
   "outputs": [],
   "source": [
    "import re\n",
    "def replace_punctuation(example):\n",
    "    example = list(example)\n",
    "    pre = ''\n",
    "    cur = ''\n",
    "    for i in range(len(example)):\n",
    "        if i == 0:\n",
    "            pre = example[i]\n",
    "            continue\n",
    "        pre = example[i-1]\n",
    "        cur = example[i]\n",
    "        if re.match(\"[\\u4e00-\\u9fa5]\", pre):\n",
    "            if re.match(\"[\\u4e00-\\u9fa5]\", cur):\n",
    "                continue\n",
    "            elif cur == ',':\n",
    "                example[i] = '，'\n",
    "            elif cur == '.':\n",
    "                example[i] = '。'\n",
    "            elif cur == '?':\n",
    "                example[i] = '？'\n",
    "            elif cur == ':':\n",
    "                example[i] = '：'\n",
    "            elif cur == ';':\n",
    "                example[i] = '；'\n",
    "            elif cur == '!':\n",
    "                example[i] = '！'\n",
    "            elif cur == '\"':\n",
    "                example[i] = '”'\n",
    "            elif cur == \"'\":\n",
    "                example[i] = \"’\"\n",
    "    return ''.join(example)"
   ]
  },
  {
   "cell_type": "code",
   "execution_count": 7,
   "metadata": {},
   "outputs": [],
   "source": [
    "train_df['label']=train_df['label'].fillna(-1)\n",
    "train_df=train_df[train_df['label']!=-1]\n",
    "train_df['label']=train_df['label'].astype(int)\n",
    "test_df['label']=0\n",
    "\n",
    "test_df['content']=test_df['content'].fillna('无')\n",
    "train_df['content']=train_df['content'].fillna('无')\n",
    "test_df['title']=test_df['title'].fillna('无')\n",
    "train_df['title']=train_df['title'].fillna('无')"
   ]
  },
  {
   "cell_type": "code",
   "execution_count": 8,
   "metadata": {},
   "outputs": [],
   "source": [
    "rep_train_df = train_df[['title', 'content']].applymap(replace_punctuation)"
   ]
  },
  {
   "cell_type": "code",
   "execution_count": 9,
   "metadata": {},
   "outputs": [],
   "source": [
    "rep_train_df = pd.concat([train_df[['id']],rep_train_df], axis=1)"
   ]
  },
  {
   "cell_type": "code",
   "execution_count": 10,
   "metadata": {},
   "outputs": [
    {
     "data": {
      "text/html": [
       "<div>\n",
       "<style scoped>\n",
       "    .dataframe tbody tr th:only-of-type {\n",
       "        vertical-align: middle;\n",
       "    }\n",
       "\n",
       "    .dataframe tbody tr th {\n",
       "        vertical-align: top;\n",
       "    }\n",
       "\n",
       "    .dataframe thead th {\n",
       "        text-align: right;\n",
       "    }\n",
       "</style>\n",
       "<table border=\"1\" class=\"dataframe\">\n",
       "  <thead>\n",
       "    <tr style=\"text-align: right;\">\n",
       "      <th></th>\n",
       "      <th>id</th>\n",
       "      <th>title</th>\n",
       "      <th>content</th>\n",
       "    </tr>\n",
       "  </thead>\n",
       "  <tbody>\n",
       "    <tr>\n",
       "      <td>0</td>\n",
       "      <td>7a3dd79f90ee419da87190cff60f7a86</td>\n",
       "      <td>问责领导(上黄镇党委书记张涛，宣国才真能一手遮天吗？)</td>\n",
       "      <td>这几天看了有人举报施某某的贴子，经与举报人联系证实，是宣某当天中午请举报人和枪手喝酒后，晚上...</td>\n",
       "    </tr>\n",
       "    <tr>\n",
       "      <td>1</td>\n",
       "      <td>7640a5589bc7486ca199eeeb38af79dd</td>\n",
       "      <td>江歌事件：教会孩子，善良的同时更要懂得保护自己！</td>\n",
       "      <td>过去一年的江歌悲剧，这几日再次刷屏：住在东京都中野区的中国女留学生江歌，收留了被前男友陈世锋...</td>\n",
       "    </tr>\n",
       "    <tr>\n",
       "      <td>2</td>\n",
       "      <td>8c5bda93e4ba401f90a0faa5b28fe57f</td>\n",
       "      <td>绝味鸭脖广告”开黄腔”引众怒 \"双11\"这么拼值吗？</td>\n",
       "      <td>“双11”1600亿的销售额让中国乃至全世界感到震惊，为此，不仅有不惜欠债百万的“剁手党”，...</td>\n",
       "    </tr>\n",
       "    <tr>\n",
       "      <td>3</td>\n",
       "      <td>1aa777fed31a4b8a9d866f05b5477557</td>\n",
       "      <td>央视曝光！如东一医药企业将槽罐车改成垃圾车，夜间偷排高浓度废水</td>\n",
       "      <td>2016年以来，如东高新区一家叫做拜瑞生物医药的企业竟然将装废水的槽罐车伪装成洒水车，常年在...</td>\n",
       "    </tr>\n",
       "    <tr>\n",
       "      <td>4</td>\n",
       "      <td>6c67ac55360340258e157f3710ebae6c</td>\n",
       "      <td>恶劣至极，央视都曝光了！南通如东一医药企业将槽罐车改成洒水车，夜间偷排高浓度废水。..丢大发了！</td>\n",
       "      <td>新闻资讯•民生热点•城市生活•南通人都在看浏览更多资讯请关注微信公众号：南通传媒网昨晚央视一...</td>\n",
       "    </tr>\n",
       "  </tbody>\n",
       "</table>\n",
       "</div>"
      ],
      "text/plain": [
       "                                 id  \\\n",
       "0  7a3dd79f90ee419da87190cff60f7a86   \n",
       "1  7640a5589bc7486ca199eeeb38af79dd   \n",
       "2  8c5bda93e4ba401f90a0faa5b28fe57f   \n",
       "3  1aa777fed31a4b8a9d866f05b5477557   \n",
       "4  6c67ac55360340258e157f3710ebae6c   \n",
       "\n",
       "                                              title  \\\n",
       "0                       问责领导(上黄镇党委书记张涛，宣国才真能一手遮天吗？)   \n",
       "1                          江歌事件：教会孩子，善良的同时更要懂得保护自己！   \n",
       "2                        绝味鸭脖广告”开黄腔”引众怒 \"双11\"这么拼值吗？   \n",
       "3                   央视曝光！如东一医药企业将槽罐车改成垃圾车，夜间偷排高浓度废水   \n",
       "4  恶劣至极，央视都曝光了！南通如东一医药企业将槽罐车改成洒水车，夜间偷排高浓度废水。..丢大发了！   \n",
       "\n",
       "                                             content  \n",
       "0  这几天看了有人举报施某某的贴子，经与举报人联系证实，是宣某当天中午请举报人和枪手喝酒后，晚上...  \n",
       "1  过去一年的江歌悲剧，这几日再次刷屏：住在东京都中野区的中国女留学生江歌，收留了被前男友陈世锋...  \n",
       "2  “双11”1600亿的销售额让中国乃至全世界感到震惊，为此，不仅有不惜欠债百万的“剁手党”，...  \n",
       "3  2016年以来，如东高新区一家叫做拜瑞生物医药的企业竟然将装废水的槽罐车伪装成洒水车，常年在...  \n",
       "4  新闻资讯•民生热点•城市生活•南通人都在看浏览更多资讯请关注微信公众号：南通传媒网昨晚央视一...  "
      ]
     },
     "execution_count": 10,
     "metadata": {},
     "output_type": "execute_result"
    }
   ],
   "source": [
    "rep_train_df.head()"
   ]
  },
  {
   "cell_type": "code",
   "execution_count": 11,
   "metadata": {},
   "outputs": [],
   "source": [
    "rep_test_df = test_df[['title', 'content']].applymap(replace_punctuation)"
   ]
  },
  {
   "cell_type": "code",
   "execution_count": 12,
   "metadata": {},
   "outputs": [],
   "source": [
    "rep_test_df = pd.concat([test_df[['id']],rep_test_df], axis=1)"
   ]
  },
  {
   "cell_type": "code",
   "execution_count": 13,
   "metadata": {},
   "outputs": [],
   "source": [
    "train_title=[]\n",
    "test_title=[]\n",
    "test_content=[]\n",
    "train_content=[]\n",
    "\n",
    "r1 = \"[a-zA-Z'!\\\"#$%&'()*+,-./:;<=>?@★[\\\\]^_`{|}~]+\"\n",
    "\n",
    "for train_str in rep_train_df['title']:\n",
    "    train_str = re.sub(r1,'',train_str)\n",
    "    train_title.append(train_str)\n",
    "for train_str in rep_train_df['content']:\n",
    "    train_str = re.sub(r1,'',train_str)\n",
    "    train_content.append(train_str)\n",
    "for test_str in rep_test_df['title']:\n",
    "    test_str = re.sub(r1,'',test_str)\n",
    "    test_title.append(test_str)\n",
    "for test_str in rep_test_df['content']:\n",
    "    test_str = re.sub(r1,'',test_str)\n",
    "    test_content.append(test_str)"
   ]
  },
  {
   "cell_type": "code",
   "execution_count": 14,
   "metadata": {},
   "outputs": [],
   "source": [
    "train_df['title']=train_title\n",
    "train_df['content']=train_content\n",
    "test_df['title']=test_title\n",
    "test_df['content']=test_content\n",
    "\n",
    "test_df['content']=test_df['content'].fillna('无')\n",
    "train_df['content']=train_df['content'].fillna('无')\n",
    "test_df['title']=test_df['title'].fillna('无')\n",
    "train_df['title']=train_df['title'].fillna('无')"
   ]
  },
  {
   "cell_type": "code",
   "execution_count": 16,
   "metadata": {},
   "outputs": [],
   "source": [
    "train_df.to_csv(\"replacement/train.csv\", index=False)\n",
    "test_df.to_csv(\"replacement/test.csv\", index=False)"
   ]
  },
  {
   "cell_type": "markdown",
   "metadata": {},
   "source": [
    "## 替换数据划分 "
   ]
  },
  {
   "cell_type": "code",
   "execution_count": 17,
   "metadata": {},
   "outputs": [],
   "source": [
    "train_df=pd.read_csv(\"replacement/train.csv\")\n",
    "test_df=pd.read_csv(\"replacement/test.csv\")\n",
    "\n",
    "train_df = train_df[['id', 'title', 'content', 'label']]\n",
    "test_df = test_df[['id', 'title', 'content']]"
   ]
  },
  {
   "cell_type": "code",
   "execution_count": 18,
   "metadata": {},
   "outputs": [],
   "source": [
    "train_df['label']=train_df['label'].fillna(-1)\n",
    "train_df=train_df[train_df['label']!=-1]\n",
    "train_df['label']=train_df['label'].astype(int)\n",
    "test_df['label']=0\n",
    "\n",
    "test_df['content']=test_df['content'].fillna('无')\n",
    "train_df['content']=train_df['content'].fillna('无')\n",
    "test_df['title']=test_df['title'].fillna('无')\n",
    "train_df['title']=train_df['title'].fillna('无')"
   ]
  },
  {
   "cell_type": "code",
   "execution_count": 19,
   "metadata": {},
   "outputs": [],
   "source": [
    "import numpy as np\n",
    "from sklearn.model_selection import StratifiedKFold\n",
    "import os\n",
    "\n",
    "X = np.array(train_df.index)\n",
    "y = train_df.loc[:,'label'].to_numpy()"
   ]
  },
  {
   "cell_type": "code",
   "execution_count": 20,
   "metadata": {},
   "outputs": [],
   "source": [
    "def generate_data(random_state = 42, is_pse_label=True):\n",
    "    skf = StratifiedKFold(n_splits=5, shuffle=True, random_state=random_state)\n",
    "    i = 0\n",
    "    for train_index, dev_index in skf.split(X, y):\n",
    "        print(i, \"TRAIN:\", train_index, \"TEST:\", dev_index)\n",
    "        DATA_DIR = \"./data_StratifiedKFold_{}/data_replacement_{}/\".format(random_state,i)\n",
    "        if not os.path.exists(DATA_DIR):\n",
    "            os.makedirs(DATA_DIR)\n",
    "        tmp_train_df = train_df.iloc[train_index]\n",
    "        \n",
    "        tmp_dev_df = train_df.iloc[dev_index]\n",
    "        \n",
    "        test_df.to_csv(DATA_DIR+\"test.csv\")\n",
    "        if is_pse_label:\n",
    "            pse_dir = \"data_pse_{}/\".format(i)\n",
    "            pse_df = pd.read_csv(pse_dir+'train.csv')\n",
    "\n",
    "            tmp_train_df = pd.concat([tmp_train_df, pse_df],ignore_index=True,sort=False)\n",
    "            \n",
    "        tmp_train_df.to_csv(DATA_DIR + \"train.csv\")\n",
    "        tmp_dev_df.to_csv(DATA_DIR+\"dev.csv\")\n",
    "        print(tmp_train_df.shape, tmp_dev_df.shape)\n",
    "        i+=1"
   ]
  },
  {
   "cell_type": "code",
   "execution_count": 21,
   "metadata": {},
   "outputs": [
    {
     "name": "stdout",
     "output_type": "stream",
     "text": [
      "0 TRAIN: [    0     2     3 ... 14692 14693 14695] TEST: [    1     5    16 ... 14678 14680 14694]\n",
      "(11755, 4) (2941, 4)\n",
      "1 TRAIN: [    0     1     3 ... 14692 14693 14694] TEST: [    2     4     6 ... 14663 14689 14695]\n",
      "(11756, 4) (2940, 4)\n",
      "2 TRAIN: [    0     1     2 ... 14692 14694 14695] TEST: [    8    23    31 ... 14687 14688 14693]\n",
      "(11757, 4) (2939, 4)\n",
      "3 TRAIN: [    1     2     3 ... 14693 14694 14695] TEST: [    0     9    13 ... 14661 14662 14679]\n",
      "(11758, 4) (2938, 4)\n",
      "4 TRAIN: [    0     1     2 ... 14693 14694 14695] TEST: [    3     7    11 ... 14690 14691 14692]\n",
      "(11758, 4) (2938, 4)\n"
     ]
    }
   ],
   "source": [
    "generate_data(random_state=42, is_pse_label=False)"
   ]
  },
  {
   "cell_type": "code",
   "execution_count": null,
   "metadata": {},
   "outputs": [],
   "source": []
  }
 ],
 "metadata": {
  "kernelspec": {
   "display_name": "Python 3",
   "language": "python",
   "name": "python3"
  },
  "language_info": {
   "codemirror_mode": {
    "name": "ipython",
    "version": 3
   },
   "file_extension": ".py",
   "mimetype": "text/x-python",
   "name": "python",
   "nbconvert_exporter": "python",
   "pygments_lexer": "ipython3",
   "version": "3.7.3"
  }
 },
 "nbformat": 4,
 "nbformat_minor": 2
}
