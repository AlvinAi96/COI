{
 "cells": [
  {
   "cell_type": "code",
   "execution_count": 1,
   "metadata": {},
   "outputs": [],
   "source": [
    "import pandas as pd "
   ]
  },
  {
   "cell_type": "code",
   "execution_count": 2,
   "metadata": {},
   "outputs": [
    {
     "data": {
      "text/html": [
       "<div>\n",
       "<style scoped>\n",
       "    .dataframe tbody tr th:only-of-type {\n",
       "        vertical-align: middle;\n",
       "    }\n",
       "\n",
       "    .dataframe tbody tr th {\n",
       "        vertical-align: top;\n",
       "    }\n",
       "\n",
       "    .dataframe thead th {\n",
       "        text-align: right;\n",
       "    }\n",
       "</style>\n",
       "<table border=\"1\" class=\"dataframe\">\n",
       "  <thead>\n",
       "    <tr style=\"text-align: right;\">\n",
       "      <th></th>\n",
       "      <th>id</th>\n",
       "      <th>title</th>\n",
       "      <th>content</th>\n",
       "      <th>label</th>\n",
       "    </tr>\n",
       "  </thead>\n",
       "  <tbody>\n",
       "    <tr>\n",
       "      <th>0</th>\n",
       "      <td>7a3dd79f90ee419da87190cff60f7a86</td>\n",
       "      <td>问责领导(上黄镇党委书记张涛，宣国才真能一手遮天吗？)</td>\n",
       "      <td>这几天看了有人举报施某某的贴子，经与举报人联系证实，是宣某当天中午请举报人和枪手喝酒后，晚上...</td>\n",
       "      <td>2</td>\n",
       "    </tr>\n",
       "    <tr>\n",
       "      <th>1</th>\n",
       "      <td>7640a5589bc7486ca199eeeb38af79dd</td>\n",
       "      <td>江歌事件:教会孩子，善良的同时更要懂得保护自己!</td>\n",
       "      <td>过去一年的江歌悲剧，这几日再次刷屏：住在东京都中野区的中国女留学生江歌，收留了被前男友陈世锋...</td>\n",
       "      <td>1</td>\n",
       "    </tr>\n",
       "    <tr>\n",
       "      <th>2</th>\n",
       "      <td>8c5bda93e4ba401f90a0faa5b28fe57f</td>\n",
       "      <td>绝味鸭脖广告\"开黄腔\"引众怒 \"双11\"这么拼值吗?</td>\n",
       "      <td>“双11”1600亿的销售额让中国乃至全世界感到震惊，为此，不仅有不惜欠债百万的“剁手党”，...</td>\n",
       "      <td>2</td>\n",
       "    </tr>\n",
       "    <tr>\n",
       "      <th>3</th>\n",
       "      <td>1aa777fed31a4b8a9d866f05b5477557</td>\n",
       "      <td>央视曝光!如东一医药企业将槽罐车改成垃圾车，夜间偷排高浓度废水</td>\n",
       "      <td>2016年以来，如东高新区一家叫做拜瑞生物医药的企业竟然将装废水的槽罐车伪装成洒水车，常年在...</td>\n",
       "      <td>2</td>\n",
       "    </tr>\n",
       "    <tr>\n",
       "      <th>4</th>\n",
       "      <td>6c67ac55360340258e157f3710ebae6c</td>\n",
       "      <td>恶劣至极，央视都曝光了!南通如东一医药企业将槽罐车改成洒水车，夜间偷排高浓度废水...丢大发了!</td>\n",
       "      <td>新闻资讯•民生热点•城市生活•南通人都在看浏览更多资讯请关注微信公众号:南通传媒网昨晚央视一...</td>\n",
       "      <td>2</td>\n",
       "    </tr>\n",
       "  </tbody>\n",
       "</table>\n",
       "</div>"
      ],
      "text/plain": [
       "                                 id  \\\n",
       "0  7a3dd79f90ee419da87190cff60f7a86   \n",
       "1  7640a5589bc7486ca199eeeb38af79dd   \n",
       "2  8c5bda93e4ba401f90a0faa5b28fe57f   \n",
       "3  1aa777fed31a4b8a9d866f05b5477557   \n",
       "4  6c67ac55360340258e157f3710ebae6c   \n",
       "\n",
       "                                              title  \\\n",
       "0                       问责领导(上黄镇党委书记张涛，宣国才真能一手遮天吗？)   \n",
       "1                          江歌事件:教会孩子，善良的同时更要懂得保护自己!   \n",
       "2                        绝味鸭脖广告\"开黄腔\"引众怒 \"双11\"这么拼值吗?   \n",
       "3                   央视曝光!如东一医药企业将槽罐车改成垃圾车，夜间偷排高浓度废水   \n",
       "4  恶劣至极，央视都曝光了!南通如东一医药企业将槽罐车改成洒水车，夜间偷排高浓度废水...丢大发了!   \n",
       "\n",
       "                                             content  label  \n",
       "0  这几天看了有人举报施某某的贴子，经与举报人联系证实，是宣某当天中午请举报人和枪手喝酒后，晚上...      2  \n",
       "1  过去一年的江歌悲剧，这几日再次刷屏：住在东京都中野区的中国女留学生江歌，收留了被前男友陈世锋...      1  \n",
       "2  “双11”1600亿的销售额让中国乃至全世界感到震惊，为此，不仅有不惜欠债百万的“剁手党”，...      2  \n",
       "3  2016年以来，如东高新区一家叫做拜瑞生物医药的企业竟然将装废水的槽罐车伪装成洒水车，常年在...      2  \n",
       "4  新闻资讯•民生热点•城市生活•南通人都在看浏览更多资讯请关注微信公众号:南通传媒网昨晚央视一...      2  "
      ]
     },
     "execution_count": 2,
     "metadata": {},
     "output_type": "execute_result"
    }
   ],
   "source": [
    "# 初赛训练数据\n",
    "chusai_train = pd.read_csv(\"./Train_DataSet.csv\")\n",
    "chusai_train_label = pd.read_csv(\"./Train_DataSet_Label.csv\")\n",
    "chusai_train=chusai_train.merge(chusai_train_label,on='id',how='left')\n",
    "chusai_train['label']=chusai_train['label'].fillna(-1)\n",
    "chusai_train=chusai_train[chusai_train['label']!=-1]\n",
    "chusai_train['label']=chusai_train['label'].astype(int)\n",
    "chusai_train[\"content\"] = chusai_train[\"content\"].fillna(\"无\")\n",
    "chusai_train[\"title\"] = chusai_train[\"title\"].fillna(\"无\")\n",
    "chusai_train.head()"
   ]
  },
  {
   "cell_type": "code",
   "execution_count": 3,
   "metadata": {},
   "outputs": [
    {
     "data": {
      "text/plain": [
       "id         0\n",
       "title      0\n",
       "content    0\n",
       "label      0\n",
       "dtype: int64"
      ]
     },
     "execution_count": 3,
     "metadata": {},
     "output_type": "execute_result"
    }
   ],
   "source": [
    "chusai_train.isnull().sum()"
   ]
  },
  {
   "cell_type": "code",
   "execution_count": 4,
   "metadata": {},
   "outputs": [
    {
     "data": {
      "text/html": [
       "<div>\n",
       "<style scoped>\n",
       "    .dataframe tbody tr th:only-of-type {\n",
       "        vertical-align: middle;\n",
       "    }\n",
       "\n",
       "    .dataframe tbody tr th {\n",
       "        vertical-align: top;\n",
       "    }\n",
       "\n",
       "    .dataframe thead th {\n",
       "        text-align: right;\n",
       "    }\n",
       "</style>\n",
       "<table border=\"1\" class=\"dataframe\">\n",
       "  <thead>\n",
       "    <tr style=\"text-align: right;\">\n",
       "      <th></th>\n",
       "      <th>id</th>\n",
       "      <th>title</th>\n",
       "      <th>content</th>\n",
       "      <th>label</th>\n",
       "    </tr>\n",
       "  </thead>\n",
       "  <tbody>\n",
       "    <tr>\n",
       "      <th>0</th>\n",
       "      <td>9544f111fbe044eaad0637c898728c41</td>\n",
       "      <td>天然气闪爆 安全防范意识刻不容缓</td>\n",
       "      <td>1月21日下午两点多，永宁县阳光花园a区17号楼1单元二楼一住户家发生天然气闪爆，屋内的母子...</td>\n",
       "      <td>1</td>\n",
       "    </tr>\n",
       "    <tr>\n",
       "      <th>1</th>\n",
       "      <td>52752e50ac054fdaa47ee68cbc331058</td>\n",
       "      <td>贵州六枝特区一民警春节值班突发疾病因公殉职 年仅37岁</td>\n",
       "      <td>本公众平台定期推送本土文化，同城活动，吃喝玩乐，资讯八卦，商家优惠等诸多优质内容，最接地气、...</td>\n",
       "      <td>2</td>\n",
       "    </tr>\n",
       "    <tr>\n",
       "      <th>2</th>\n",
       "      <td>8b6fa3824d31470ba1a4896ad71085f4</td>\n",
       "      <td>镇江丹徒区一房子白天起火</td>\n",
       "      <td>诚信肥宅精华 0注册 17-6-30　镇江丹徒区一房子白天起火 房主大妈还在酣睡丹徒区一处民...</td>\n",
       "      <td>2</td>\n",
       "    </tr>\n",
       "    <tr>\n",
       "      <th>3</th>\n",
       "      <td>18bfcb9b229b4af09a0171c03a16c494</td>\n",
       "      <td>3000吨!!!如东这家企业偷排高浓度废水!!!</td>\n",
       "      <td>昨晚央视一套晚间新闻栏目曝光了一则新闻报道的对象竟是如东一家企业的事情▽2016年以来，如东...</td>\n",
       "      <td>2</td>\n",
       "    </tr>\n",
       "    <tr>\n",
       "      <th>4</th>\n",
       "      <td>845dd584233c40969576bd8d9a8c6aac</td>\n",
       "      <td>央视曝光!拜瑞生物医药将槽罐车改成洒水车偷排高浓度废水</td>\n",
       "      <td>e药汇id ：eyh1111近日，江苏南通。拜瑞医药将装废水的槽罐车伪装成洒水车，夜间偷排高...</td>\n",
       "      <td>2</td>\n",
       "    </tr>\n",
       "  </tbody>\n",
       "</table>\n",
       "</div>"
      ],
      "text/plain": [
       "                                 id                        title  \\\n",
       "0  9544f111fbe044eaad0637c898728c41             天然气闪爆 安全防范意识刻不容缓   \n",
       "1  52752e50ac054fdaa47ee68cbc331058  贵州六枝特区一民警春节值班突发疾病因公殉职 年仅37岁   \n",
       "2  8b6fa3824d31470ba1a4896ad71085f4                 镇江丹徒区一房子白天起火   \n",
       "3  18bfcb9b229b4af09a0171c03a16c494     3000吨!!!如东这家企业偷排高浓度废水!!!   \n",
       "4  845dd584233c40969576bd8d9a8c6aac  央视曝光!拜瑞生物医药将槽罐车改成洒水车偷排高浓度废水   \n",
       "\n",
       "                                             content  label  \n",
       "0  1月21日下午两点多，永宁县阳光花园a区17号楼1单元二楼一住户家发生天然气闪爆，屋内的母子...      1  \n",
       "1  本公众平台定期推送本土文化，同城活动，吃喝玩乐，资讯八卦，商家优惠等诸多优质内容，最接地气、...      2  \n",
       "2  诚信肥宅精华 0注册 17-6-30　镇江丹徒区一房子白天起火 房主大妈还在酣睡丹徒区一处民...      2  \n",
       "3  昨晚央视一套晚间新闻栏目曝光了一则新闻报道的对象竟是如东一家企业的事情▽2016年以来，如东...      2  \n",
       "4  e药汇id ：eyh1111近日，江苏南通。拜瑞医药将装废水的槽罐车伪装成洒水车，夜间偷排高...      2  "
      ]
     },
     "execution_count": 4,
     "metadata": {},
     "output_type": "execute_result"
    }
   ],
   "source": [
    "# 复赛训练数据\n",
    "fusai_train = pd.read_csv(\"./Second_DataSet.csv\", header=None)\n",
    "fusai_train_label = pd.read_csv(\"./Second_DataSet_Label.csv\", header=None)\n",
    "fusai_train.columns = ['id', 'title', 'content']\n",
    "fusai_train_label.columns = ['id', 'label']\n",
    "fusai_train=fusai_train.merge(fusai_train_label,on='id',how='left')\n",
    "fusai_train['label']=fusai_train['label'].fillna(-1)\n",
    "fusai_train=fusai_train[fusai_train['label']!=-1]\n",
    "fusai_train['label']=fusai_train['label'].astype(int)\n",
    "fusai_train[\"content\"] = fusai_train[\"content\"].fillna(\"无\")\n",
    "fusai_train[\"title\"] = fusai_train[\"title\"].fillna(\"无\")\n",
    "fusai_train.head()"
   ]
  },
  {
   "cell_type": "code",
   "execution_count": 5,
   "metadata": {},
   "outputs": [
    {
     "name": "stdout",
     "output_type": "stream",
     "text": [
      "(14696, 4)\n"
     ]
    }
   ],
   "source": [
    "# 合并训练数据\n",
    "train_df = chusai_train.append(fusai_train)\n",
    "print(train_df.shape)\n",
    "train_df.to_csv(\"./all_train.csv\")"
   ]
  },
  {
   "cell_type": "code",
   "execution_count": 6,
   "metadata": {},
   "outputs": [],
   "source": [
    "# 准备测试数据\n",
    "fusai_test = pd.read_csv(\"./Second_TestDataSet.csv\", header=None)\n",
    "fusai_test.columns = ['id', 'title', 'content']\n",
    "fusai_test[\"content\"] = fusai_test[\"content\"].fillna(\"无\")\n",
    "fusai_test[\"title\"] = fusai_test[\"title\"].fillna(\"无\")\n",
    "fusai_test.to_csv(\"all_test.csv\")"
   ]
  },
  {
   "cell_type": "code",
   "execution_count": null,
   "metadata": {},
   "outputs": [],
   "source": []
  }
 ],
 "metadata": {
  "kernelspec": {
   "display_name": "Python 3",
   "language": "python",
   "name": "python3"
  },
  "language_info": {
   "codemirror_mode": {
    "name": "ipython",
    "version": 3
   },
   "file_extension": ".py",
   "mimetype": "text/x-python",
   "name": "python",
   "nbconvert_exporter": "python",
   "pygments_lexer": "ipython3",
   "version": "3.7.3"
  }
 },
 "nbformat": 4,
 "nbformat_minor": 2
}
