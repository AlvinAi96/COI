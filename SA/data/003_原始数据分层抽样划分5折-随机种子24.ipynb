{
 "cells": [
  {
   "cell_type": "code",
   "execution_count": 6,
   "metadata": {},
   "outputs": [],
   "source": [
    "import pandas as pd\n",
    "import os\n",
    "import random\n",
    "\n",
    "train_df=pd.read_csv(\"all_train.csv\")\n",
    "test_df=pd.read_csv(\"all_test.csv\")\n",
    "\n",
    "train_df = train_df[['id', 'title', 'content', 'label']]\n",
    "test_df = test_df[['id', 'title', 'content']]"
   ]
  },
  {
   "cell_type": "code",
   "execution_count": 7,
   "metadata": {},
   "outputs": [],
   "source": [
    "train_df['label']=train_df['label'].fillna(-1)\n",
    "train_df=train_df[train_df['label']!=-1]\n",
    "train_df['label']=train_df['label'].astype(int)\n",
    "test_df['label']=0\n",
    "\n",
    "test_df['content']=test_df['content'].fillna('无')\n",
    "train_df['content']=train_df['content'].fillna('无')\n",
    "test_df['title']=test_df['title'].fillna('无')\n",
    "train_df['title']=train_df['title'].fillna('无')"
   ]
  },
  {
   "cell_type": "code",
   "execution_count": 8,
   "metadata": {},
   "outputs": [],
   "source": [
    "import numpy as np\n",
    "from sklearn.model_selection import StratifiedKFold\n",
    "import os\n",
    "\n",
    "X = np.array(train_df.index)\n",
    "y = train_df.loc[:,'label'].to_numpy()"
   ]
  },
  {
   "cell_type": "code",
   "execution_count": 9,
   "metadata": {},
   "outputs": [],
   "source": [
    "def generate_data(random_state = 24, is_pse_label=True):\n",
    "    skf = StratifiedKFold(n_splits=5, shuffle=True, random_state=random_state)\n",
    "    i = 0\n",
    "    for train_index, dev_index in skf.split(X, y):\n",
    "        print(i, \"TRAIN:\", train_index, \"TEST:\", dev_index)\n",
    "        DATA_DIR = \"./data_StratifiedKFold_{}/data_origin_{}/\".format(random_state,i)\n",
    "        if not os.path.exists(DATA_DIR):\n",
    "            os.makedirs(DATA_DIR)\n",
    "        tmp_train_df = train_df.iloc[train_index]\n",
    "        \n",
    "        tmp_dev_df = train_df.iloc[dev_index]\n",
    "        \n",
    "        test_df.to_csv(DATA_DIR+\"test.csv\")\n",
    "        if is_pse_label:\n",
    "            pse_dir = \"data_pse_{}/\".format(i)\n",
    "            pse_df = pd.read_csv(pse_dir+'train.csv')\n",
    "\n",
    "            tmp_train_df = pd.concat([tmp_train_df, pse_df],ignore_index=True,sort=False)\n",
    "            \n",
    "        tmp_train_df.to_csv(DATA_DIR + \"train.csv\")\n",
    "        tmp_dev_df.to_csv(DATA_DIR+\"dev.csv\")\n",
    "        print(tmp_train_df.shape, tmp_dev_df.shape)\n",
    "        i+=1"
   ]
  },
  {
   "cell_type": "code",
   "execution_count": 10,
   "metadata": {},
   "outputs": [
    {
     "name": "stdout",
     "output_type": "stream",
     "text": [
      "0 TRAIN: [    1     2     3 ... 14691 14692 14693] TEST: [    0    17    20 ... 14686 14694 14695]\n",
      "(11755, 4) (2941, 4)\n",
      "1 TRAIN: [    0     1     3 ... 14692 14694 14695] TEST: [    2    12    13 ... 14688 14691 14693]\n",
      "(11756, 4) (2940, 4)\n",
      "2 TRAIN: [    0     1     2 ... 14693 14694 14695] TEST: [    3     4     7 ... 14661 14663 14692]\n",
      "(11757, 4) (2939, 4)\n",
      "3 TRAIN: [    0     1     2 ... 14693 14694 14695] TEST: [    6     9    11 ... 14685 14687 14690]\n",
      "(11758, 4) (2938, 4)\n",
      "4 TRAIN: [    0     2     3 ... 14693 14694 14695] TEST: [    1     5     8 ... 14672 14681 14689]\n",
      "(11758, 4) (2938, 4)\n"
     ]
    }
   ],
   "source": [
    "generate_data(random_state=24, is_pse_label=False)"
   ]
  },
  {
   "cell_type": "code",
   "execution_count": null,
   "metadata": {},
   "outputs": [],
   "source": []
  }
 ],
 "metadata": {
  "kernelspec": {
   "display_name": "Python 3",
   "language": "python",
   "name": "python3"
  },
  "language_info": {
   "codemirror_mode": {
    "name": "ipython",
    "version": 3
   },
   "file_extension": ".py",
   "mimetype": "text/x-python",
   "name": "python",
   "nbconvert_exporter": "python",
   "pygments_lexer": "ipython3",
   "version": "3.7.4"
  }
 },
 "nbformat": 4,
 "nbformat_minor": 2
}
