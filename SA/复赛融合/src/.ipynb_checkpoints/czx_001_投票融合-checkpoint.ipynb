{
 "cells": [
  {
   "cell_type": "code",
   "execution_count": 1,
   "metadata": {},
   "outputs": [],
   "source": [
    "import pandas as pd\n",
    "import numpy as np\n",
    "import os\n",
    "from pprint import pprint"
   ]
  },
  {
   "cell_type": "code",
   "execution_count": 2,
   "metadata": {},
   "outputs": [
    {
     "name": "stdout",
     "output_type": "stream",
     "text": [
      "12\n",
      "['roberta_wwm_large_512_1_last2embedding_cls_sub_8157.csv',\n",
      " 'roberta_wwm_large_5121_42_pse_sub_8123.csv',\n",
      " 'roberta_wwm_large_512_1_last2embedding_cls_24_sub_8133.csv',\n",
      " 'roberta_wwm_large_2562_gru1_42_sub_8126.csv',\n",
      " 'roberta_wwm_large_512_1_last2embedding_cls_rep_pse_sub_8221.csv',\n",
      " 'roberta_wwm_large_2562_24_sub_对比8126.csv',\n",
      " 'roberta_wwm_large_3002_gru1_sub_8117.csv',\n",
      " 'roberta_wwm_large_512_1_last3embedding_cls_sub_81576.csv',\n",
      " 'roberta_large_256_2_replacement_pse_sub_8091pse.csv',\n",
      " 'roberta_wwm_large_512_1_last2embedding_cls_replacement_sub_8153.csv',\n",
      " 'roberta_wwm_large_5121_last3embedding_sub_8150.csv',\n",
      " 'roberta_wwm_large_5121_42_sub.csv_8110.csv']\n"
     ]
    }
   ],
   "source": [
    "DATA_DIR = '../data/'\n",
    "files = os.listdir(DATA_DIR)\n",
    "files = [i for i in files if i[0]!='.']\n",
    "print(len(files))\n",
    "pprint(files)"
   ]
  },
  {
   "cell_type": "code",
   "execution_count": 3,
   "metadata": {},
   "outputs": [
    {
     "name": "stdout",
     "output_type": "stream",
     "text": [
      "(7356, 2)\n",
      "(7356, 3)\n",
      "(7356, 4)\n",
      "(7356, 5)\n",
      "(7356, 6)\n",
      "(7356, 7)\n",
      "(7356, 8)\n",
      "(7356, 9)\n",
      "(7356, 10)\n",
      "(7356, 11)\n",
      "(7356, 12)\n",
      "(7356, 13)\n",
      "                                 id  label_x  label_y  label_x  label_y  \\\n",
      "0  0003d01880444716a42159efe73d2c26        1        1        1        1   \n",
      "1  000dbfeed3594d5bb128a21c2078a786        0        0        0        0   \n",
      "2  0010336c4cd44547852edd379487dbda        1        1        1        1   \n",
      "3  001332737eaa443d85b6f59b07d28ed2        1        1        1        1   \n",
      "4  00251d9b40164b638cc784d8e65df52f        1        1        1        1   \n",
      "5  002d74c1c3464386813a4820822cc3ea        2        2        2        2   \n",
      "6  003278acda1e4c11a67af072d298b16d        2        2        2        2   \n",
      "7  00342403896f48bbb1dd7a7be00442d5        2        2        2        2   \n",
      "8  00406176673145c695e58e34f3e1f6f2        1        1        1        1   \n",
      "9  004421a1b1ea47aab895787099f7db5b        2        2        2        2   \n",
      "\n",
      "   label_x  label_y  label_x  label_y  label_x  label_y  label_x  label_y  \n",
      "0        1        1        1        1        1        1        1        1  \n",
      "1        0        0        0        0        0        0        0        0  \n",
      "2        1        1        1        1        1        1        1        1  \n",
      "3        1        1        1        1        1        1        1        1  \n",
      "4        1        1        1        1        1        1        1        1  \n",
      "5        2        2        2        2        2        2        2        2  \n",
      "6        2        2        2        2        2        2        2        2  \n",
      "7        2        2        2        2        2        2        2        2  \n",
      "8        1        1        1        1        1        1        1        1  \n",
      "9        2        2        2        2        2        2        2        2  \n"
     ]
    }
   ],
   "source": [
    "sub_exp_df = pd.read_csv('../submit_example.csv')\n",
    "df_merged = sub_exp_df.drop(['label'], axis=1)\n",
    "# df_merged = pd.read_csv(DATA_DIR + files[0])\n",
    "for file in files:\n",
    "    tmp_df = pd.read_csv(DATA_DIR + file)\n",
    "    df_merged = df_merged.merge(tmp_df, how='left', on='id')\n",
    "    print(df_merged.shape)\n",
    "pprint(df_merged.head(10))\n"
   ]
  },
  {
   "cell_type": "code",
   "execution_count": 4,
   "metadata": {},
   "outputs": [],
   "source": [
    "def work(pres):\n",
    "    count = [0,0,0]\n",
    "    for i in pres:\n",
    "        count[i] += 1\n",
    "    out = count.index(max(count))\n",
    "    return out"
   ]
  },
  {
   "cell_type": "code",
   "execution_count": 5,
   "metadata": {},
   "outputs": [],
   "source": [
    "tmp_arr = np.array(df_merged.iloc[:,1:])\n",
    "label_voted = [work(line) for line in tmp_arr]"
   ]
  },
  {
   "cell_type": "code",
   "execution_count": 6,
   "metadata": {},
   "outputs": [],
   "source": [
    "df_summit = df_merged[['id']]"
   ]
  },
  {
   "cell_type": "code",
   "execution_count": 7,
   "metadata": {},
   "outputs": [
    {
     "name": "stderr",
     "output_type": "stream",
     "text": [
      "/home/haizhi/anaconda3/lib/python3.7/site-packages/ipykernel_launcher.py:1: SettingWithCopyWarning: \n",
      "A value is trying to be set on a copy of a slice from a DataFrame.\n",
      "Try using .loc[row_indexer,col_indexer] = value instead\n",
      "\n",
      "See the caveats in the documentation: http://pandas.pydata.org/pandas-docs/stable/user_guide/indexing.html#returning-a-view-versus-a-copy\n",
      "  \"\"\"Entry point for launching an IPython kernel.\n"
     ]
    }
   ],
   "source": [
    "df_summit['label'] = label_voted"
   ]
  },
  {
   "cell_type": "code",
   "execution_count": 8,
   "metadata": {},
   "outputs": [],
   "source": [
    "SUMMIT_DIR = '../submit/'"
   ]
  },
  {
   "cell_type": "code",
   "execution_count": 10,
   "metadata": {},
   "outputs": [],
   "source": [
    "df_summit[['id','label']].to_csv(SUMMIT_DIR + 'sub_复现8233.csv',index=False)"
   ]
  },
  {
   "cell_type": "code",
   "execution_count": 11,
   "metadata": {},
   "outputs": [
    {
     "name": "stdout",
     "output_type": "stream",
     "text": [
      "(7356, 2)\n"
     ]
    }
   ],
   "source": [
    "print(df_summit.shape)"
   ]
  },
  {
   "cell_type": "markdown",
   "metadata": {},
   "source": [
    "## 测试"
   ]
  },
  {
   "cell_type": "code",
   "execution_count": 14,
   "metadata": {},
   "outputs": [],
   "source": [
    "# def diff_df(fname1, fname2):\n",
    "#     sub_exp_df = pd.read_csv('../submit_example.csv')\n",
    "#     df_3 = sub_exp_df.drop(['label'], axis=1)\n",
    "    \n",
    "#     df_1 = pd.read_csv(fname1)\n",
    "#     df_2 = pd.read_csv(fname2)\n",
    "    \n",
    "#     df_3 = df_3.merge(df_1, how='left', on='id')\n",
    "#     df_3 = df_3.merge(df_2, how='left', on='id')\n",
    "#     print(df_3.shape)\n",
    "#     df_diff = df_3[df_3['label_x']!=df_3['label_y']]\n",
    "#     print(df_diff.shape)\n",
    "#     return df_diff"
   ]
  },
  {
   "cell_type": "code",
   "execution_count": 16,
   "metadata": {},
   "outputs": [
    {
     "name": "stdout",
     "output_type": "stream",
     "text": [
      "(7356, 3)\n",
      "(0, 3)\n"
     ]
    },
    {
     "data": {
      "text/html": [
       "<div>\n",
       "<style scoped>\n",
       "    .dataframe tbody tr th:only-of-type {\n",
       "        vertical-align: middle;\n",
       "    }\n",
       "\n",
       "    .dataframe tbody tr th {\n",
       "        vertical-align: top;\n",
       "    }\n",
       "\n",
       "    .dataframe thead th {\n",
       "        text-align: right;\n",
       "    }\n",
       "</style>\n",
       "<table border=\"1\" class=\"dataframe\">\n",
       "  <thead>\n",
       "    <tr style=\"text-align: right;\">\n",
       "      <th></th>\n",
       "      <th>id</th>\n",
       "      <th>label_x</th>\n",
       "      <th>label_y</th>\n",
       "    </tr>\n",
       "  </thead>\n",
       "  <tbody>\n",
       "  </tbody>\n",
       "</table>\n",
       "</div>"
      ],
      "text/plain": [
       "Empty DataFrame\n",
       "Columns: [id, label_x, label_y]\n",
       "Index: []"
      ]
     },
     "execution_count": 16,
     "metadata": {},
     "output_type": "execute_result"
    }
   ],
   "source": [
    "# # fname1 = SUMMIT_DIR + 'sub_vote6_1110_002.csv'\n",
    "# # fname2 = SUMMIT_DIR + 'sub_vote9_1114_001_8223.csv'\n",
    "# # fname1 = DATA_DIR + 'roberta_wwm_large_512_1_last3embedding_cls_sub_81576.csv'\n",
    "# # fname2 = DATA_DIR + 'roberta_wwm_large_512_1_last2embedding_cls_sub_8157.csv'\n",
    "# # fname1 = SUMMIT_DIR + 'sub_vote9_1114_001_8223.csv'\n",
    "# # fname2 = SUMMIT_DIR + 'sub_vote12_1115_001.csv'\n",
    "# fname1 = SUMMIT_DIR + 'sub_vote12_1115_001_8233.csv'\n",
    "# fname2 = SUMMIT_DIR + 'sub_复现8233.csv'\n",
    "# diff_df(fname1, fname2)"
   ]
  },
  {
   "cell_type": "code",
   "execution_count": null,
   "metadata": {},
   "outputs": [],
   "source": []
  }
 ],
 "metadata": {
  "kernelspec": {
   "display_name": "Python 3",
   "language": "python",
   "name": "python3"
  },
  "language_info": {
   "codemirror_mode": {
    "name": "ipython",
    "version": 3
   },
   "file_extension": ".py",
   "mimetype": "text/x-python",
   "name": "python",
   "nbconvert_exporter": "python",
   "pygments_lexer": "ipython3",
   "version": "3.7.4"
  }
 },
 "nbformat": 4,
 "nbformat_minor": 2
}
